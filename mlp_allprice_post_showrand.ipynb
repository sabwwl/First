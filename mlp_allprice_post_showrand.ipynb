{
 "cells": [
  {
   "cell_type": "code",
   "execution_count": 40,
   "metadata": {},
   "outputs": [],
   "source": [
    "# Libraries\n",
    "import pandas as pd\n",
    "import numpy as np\n",
    "import matplotlib.pyplot as plt\n",
    "\n",
    "# warnings Ignore\n",
    "from warnings import simplefilter \n",
    "simplefilter(action='ignore', category=FutureWarning)\n",
    "\n",
    "# sklearn\n",
    "from sklearn.utils import shuffle\n",
    "from sklearn.preprocessing import StandardScaler\n",
    "from sklearn.preprocessing import MaxAbsScaler\n",
    "from sklearn.preprocessing import QuantileTransformer\n",
    "from sklearn.model_selection import train_test_split\n",
    "from sklearn.model_selection import validation_curve, learning_curve\n",
    "from sklearn.model_selection import cross_val_score\n",
    "\n",
    "# sklearn Models\n",
    "from sklearn.neural_network import MLPRegressor\n",
    "\n",
    "# ploting Styles\n",
    "from matplotlib import rcParams\n",
    "plt.style.use('seaborn-talk')"
   ]
  },
  {
   "cell_type": "code",
   "execution_count": 5,
   "metadata": {},
   "outputs": [],
   "source": [
    "SMALL_SIZE = 12\n",
    "MEDIUM_SIZE = 15\n",
    "BIGGER_SIZE = 19\n",
    "plt.rc('figure', figsize=(6,5))\n",
    "plt.rc('font', size=BIGGER_SIZE)          # controls default text sizes\n",
    "plt.rc('axes', titlesize=MEDIUM_SIZE)     # fontsize of the axes title\n",
    "plt.rc('axes', labelsize=SMALL_SIZE)     # fontsize of the x and y labels\n",
    "plt.rc('xtick', labelsize=SMALL_SIZE)     # fontsize of the tick labels\n",
    "plt.rc('ytick', labelsize=SMALL_SIZE)     # fontsize of the tick labels\n",
    "plt.rc('legend', fontsize=MEDIUM_SIZE)    # legend fontsize\n",
    "plt.rc('figure', titlesize=BIGGER_SIZE)   # fontsize of the figure title"
   ]
  },
  {
   "cell_type": "markdown",
   "metadata": {},
   "source": [
    "### Import data"
   ]
  },
  {
   "cell_type": "code",
   "execution_count": 6,
   "metadata": {},
   "outputs": [],
   "source": [
    "data = pd.read_csv('activity_post_showrand.csv')"
   ]
  },
  {
   "cell_type": "code",
   "execution_count": 7,
   "metadata": {},
   "outputs": [
    {
     "data": {
      "text/html": [
       "<div>\n",
       "<style scoped>\n",
       "    .dataframe tbody tr th:only-of-type {\n",
       "        vertical-align: middle;\n",
       "    }\n",
       "\n",
       "    .dataframe tbody tr th {\n",
       "        vertical-align: top;\n",
       "    }\n",
       "\n",
       "    .dataframe thead th {\n",
       "        text-align: right;\n",
       "    }\n",
       "</style>\n",
       "<table border=\"1\" class=\"dataframe\">\n",
       "  <thead>\n",
       "    <tr style=\"text-align: right;\">\n",
       "      <th></th>\n",
       "      <th>price</th>\n",
       "      <th>avg_likes</th>\n",
       "      <th>avg_comments</th>\n",
       "      <th>followers</th>\n",
       "    </tr>\n",
       "  </thead>\n",
       "  <tbody>\n",
       "    <tr>\n",
       "      <th>count</th>\n",
       "      <td>1.893000e+03</td>\n",
       "      <td>1893.000000</td>\n",
       "      <td>1893.000000</td>\n",
       "      <td>1.893000e+03</td>\n",
       "    </tr>\n",
       "    <tr>\n",
       "      <th>mean</th>\n",
       "      <td>3.593165e+05</td>\n",
       "      <td>5309.831326</td>\n",
       "      <td>339.677073</td>\n",
       "      <td>3.076290e+05</td>\n",
       "    </tr>\n",
       "    <tr>\n",
       "      <th>std</th>\n",
       "      <td>1.880650e+06</td>\n",
       "      <td>16022.712518</td>\n",
       "      <td>7171.583360</td>\n",
       "      <td>4.846184e+05</td>\n",
       "    </tr>\n",
       "    <tr>\n",
       "      <th>min</th>\n",
       "      <td>2.200000e+03</td>\n",
       "      <td>2.000000</td>\n",
       "      <td>0.000000</td>\n",
       "      <td>1.500000e+01</td>\n",
       "    </tr>\n",
       "    <tr>\n",
       "      <th>25%</th>\n",
       "      <td>5.500000e+04</td>\n",
       "      <td>610.700000</td>\n",
       "      <td>13.900000</td>\n",
       "      <td>7.021000e+04</td>\n",
       "    </tr>\n",
       "    <tr>\n",
       "      <th>50%</th>\n",
       "      <td>1.100000e+05</td>\n",
       "      <td>1578.900000</td>\n",
       "      <td>38.000000</td>\n",
       "      <td>1.664750e+05</td>\n",
       "    </tr>\n",
       "    <tr>\n",
       "      <th>75%</th>\n",
       "      <td>2.200000e+05</td>\n",
       "      <td>4556.100000</td>\n",
       "      <td>107.300000</td>\n",
       "      <td>3.422160e+05</td>\n",
       "    </tr>\n",
       "    <tr>\n",
       "      <th>max</th>\n",
       "      <td>6.050000e+07</td>\n",
       "      <td>384564.200000</td>\n",
       "      <td>309455.000000</td>\n",
       "      <td>6.192507e+06</td>\n",
       "    </tr>\n",
       "  </tbody>\n",
       "</table>\n",
       "</div>"
      ],
      "text/plain": [
       "              price      avg_likes   avg_comments     followers\n",
       "count  1.893000e+03    1893.000000    1893.000000  1.893000e+03\n",
       "mean   3.593165e+05    5309.831326     339.677073  3.076290e+05\n",
       "std    1.880650e+06   16022.712518    7171.583360  4.846184e+05\n",
       "min    2.200000e+03       2.000000       0.000000  1.500000e+01\n",
       "25%    5.500000e+04     610.700000      13.900000  7.021000e+04\n",
       "50%    1.100000e+05    1578.900000      38.000000  1.664750e+05\n",
       "75%    2.200000e+05    4556.100000     107.300000  3.422160e+05\n",
       "max    6.050000e+07  384564.200000  309455.000000  6.192507e+06"
      ]
     },
     "execution_count": 7,
     "metadata": {},
     "output_type": "execute_result"
    }
   ],
   "source": [
    "data.describe()"
   ]
  },
  {
   "cell_type": "code",
   "execution_count": 8,
   "metadata": {},
   "outputs": [],
   "source": [
    "# drop very large outlier\n",
    "data.drop(data[data['avg_comments']==max(data['avg_comments'])].index, inplace=True)"
   ]
  },
  {
   "cell_type": "code",
   "execution_count": 9,
   "metadata": {},
   "outputs": [],
   "source": [
    "# log of price column\n",
    "data['price'] = data['price'].apply(lambda x: np.log10(x))"
   ]
  },
  {
   "cell_type": "code",
   "execution_count": 10,
   "metadata": {},
   "outputs": [
    {
     "data": {
      "image/png": "[encoded data removed]",
      "text/plain": [
       "<Figure size 1080x576 with 6 Axes>"
      ]
     },
     "metadata": {
      "needs_background": "light"
     },
     "output_type": "display_data"
    }
   ],
   "source": [
    "data.hist(layout=(2,3),figsize=(15,8),log=True)\n",
    "plt.tight_layout()\n",
    "plt.show()"
   ]
  },
  {
   "cell_type": "code",
   "execution_count": 48,
   "metadata": {},
   "outputs": [
    {
     "name": "stdout",
     "output_type": "stream",
     "text": [
      "X_train : 1721    X_test : 171\n"
     ]
    }
   ],
   "source": [
    "X = data[['followers','avg_likes', 'avg_comments']].values\n",
    "Y = data['price'].values\n",
    "\n",
    "## Max Abs\n",
    "ma = MaxAbsScaler().fit(X) # Best results\n",
    "X = ma.transform(X)\n",
    "\n",
    "\n",
    "## Qunatile\n",
    "# trans = QuantileTransformer(n_quantiles=100)\n",
    "# X = trans.fit_transform(X)\n",
    "\n",
    "## Standard\n",
    "# s_scaler = StandardScaler().fit(X)\n",
    "# X = s_scaler.transform(X)\n",
    "\n",
    "\n",
    "tst_size = 0.09\n",
    "ns, nf = np.shape(X) \n",
    "X_train, X_test, Y_train, Y_test = train_test_split(*shuffle(X, Y, n_samples = ns, random_state=0) , random_state=0, test_size =tst_size )\n",
    "print('X_train :',len(X_train),'   X_test :',len(X_test))"
   ]
  },
  {
   "cell_type": "markdown",
   "metadata": {},
   "source": [
    "## Optimizing the model"
   ]
  },
  {
   "cell_type": "markdown",
   "metadata": {},
   "source": [
    "### Validaion curve"
   ]
  },
  {
   "cell_type": "code",
   "execution_count": 13,
   "metadata": {},
   "outputs": [
    {
     "name": "stdout",
     "output_type": "stream",
     "text": [
      "[1.00000000e-06 2.06913808e-06 4.28133240e-06 8.85866790e-06\n",
      " 1.83298071e-05 3.79269019e-05 7.84759970e-05 1.62377674e-04\n",
      " 3.35981829e-04 6.95192796e-04 1.43844989e-03 2.97635144e-03\n",
      " 6.15848211e-03 1.27427499e-02 2.63665090e-02 5.45559478e-02\n",
      " 1.12883789e-01 2.33572147e-01 4.83293024e-01 1.00000000e+00]\n"
     ]
    },
    {
     "data": {
      "image/png": "[encoded data removed]",
      "text/plain": [
       "<Figure size 432x360 with 1 Axes>"
      ]
     },
     "metadata": {
      "needs_background": "light"
     },
     "output_type": "display_data"
    },
    {
     "name": "stdout",
     "output_type": "stream",
     "text": [
      "Best alpha: 1.8329807108324375e-05\n"
     ]
    }
   ],
   "source": [
    "model = MLPRegressor(max_iter=1000)\n",
    "\n",
    "param_range = np.logspace(-6,0, 20)\n",
    "param_name = 'alpha'\n",
    "print(param_range)\n",
    "\n",
    "scoring = 'r2'\n",
    "cv =5\n",
    "\n",
    "train_scores, test_scores = validation_curve(\n",
    "model, X=X_train, y=Y_train, cv=cv, param_name=param_name, param_range=param_range,\n",
    "scoring=scoring, n_jobs=1)\n",
    "\n",
    "\n",
    "train_scores_mean = np.mean(train_scores, axis=1)\n",
    "test_scores_mean = np.mean(test_scores, axis=1)\n",
    "\n",
    "plt.plot(param_range, train_scores_mean,'r--',label = 'Training Score')\n",
    "plt.plot(param_range, test_scores_mean,'g--',label = 'Cross-validation score')\n",
    "\n",
    "plt.title('validation curve')\n",
    "plt.xlabel(param_name)\n",
    "plt.ylabel('Score')\n",
    "plt.legend(loc='upper left')\n",
    "\n",
    "plt.show()\n",
    "print(f'Best {param_name}: {param_range[np.argmax(test_scores_mean)]}')"
   ]
  },
  {
   "cell_type": "markdown",
   "metadata": {},
   "source": [
    "### Grid search"
   ]
  },
  {
   "cell_type": "code",
   "execution_count": 20,
   "metadata": {},
   "outputs": [],
   "source": [
    "from sklearn.model_selection import GridSearchCV\n",
    "\n",
    "grid = {\n",
    "     'hidden_layer_sizes': [(50,3),(80,3),(100,3),(100,4),(100,5),(200,4),(200,5)],\n",
    "}"
   ]
  },
  {
   "cell_type": "code",
   "execution_count": null,
   "metadata": {},
   "outputs": [],
   "source": [
    "mlpr = MLPRegressor(max_iter=1000, batch_size=238, alpha=18e-5, solver='lbfgs', learning_rate='adaptive', activation='relu')\n",
    "mlpr_grid = GridSearchCV(mlpr ,param_grid= grid, scoring='r2', cv=4\n",
    "                         , pre_dispatch=2, return_train_score=True, verbose=2)\n",
    "mlpr_grid.fit(X_train , Y_train)"
   ]
  },
  {
   "cell_type": "code",
   "execution_count": 25,
   "metadata": {},
   "outputs": [
    {
     "data": {
      "text/html": [
       "<div>\n",
       "<style scoped>\n",
       "    .dataframe tbody tr th:only-of-type {\n",
       "        vertical-align: middle;\n",
       "    }\n",
       "\n",
       "    .dataframe tbody tr th {\n",
       "        vertical-align: top;\n",
       "    }\n",
       "\n",
       "    .dataframe thead th {\n",
       "        text-align: right;\n",
       "    }\n",
       "</style>\n",
       "<table border=\"1\" class=\"dataframe\">\n",
       "  <thead>\n",
       "    <tr style=\"text-align: right;\">\n",
       "      <th></th>\n",
       "      <th>mean_fit_time</th>\n",
       "      <th>std_fit_time</th>\n",
       "      <th>mean_score_time</th>\n",
       "      <th>std_score_time</th>\n",
       "      <th>param_hidden_layer_sizes</th>\n",
       "      <th>params</th>\n",
       "      <th>split0_test_score</th>\n",
       "      <th>split1_test_score</th>\n",
       "      <th>split2_test_score</th>\n",
       "      <th>split3_test_score</th>\n",
       "      <th>mean_test_score</th>\n",
       "      <th>std_test_score</th>\n",
       "      <th>rank_test_score</th>\n",
       "      <th>split0_train_score</th>\n",
       "      <th>split1_train_score</th>\n",
       "      <th>split2_train_score</th>\n",
       "      <th>split3_train_score</th>\n",
       "      <th>mean_train_score</th>\n",
       "      <th>std_train_score</th>\n",
       "    </tr>\n",
       "  </thead>\n",
       "  <tbody>\n",
       "    <tr>\n",
       "      <th>0</th>\n",
       "      <td>0.438643</td>\n",
       "      <td>0.585397</td>\n",
       "      <td>0.000749</td>\n",
       "      <td>0.000432</td>\n",
       "      <td>(50, 3)</td>\n",
       "      <td>{'hidden_layer_sizes': (50, 3)}</td>\n",
       "      <td>0.374081</td>\n",
       "      <td>0.472100</td>\n",
       "      <td>-0.024539</td>\n",
       "      <td>-0.001230</td>\n",
       "      <td>0.205103</td>\n",
       "      <td>0.220879</td>\n",
       "      <td>7</td>\n",
       "      <td>0.478226</td>\n",
       "      <td>4.173306e-01</td>\n",
       "      <td>-1.332268e-15</td>\n",
       "      <td>-2.886580e-15</td>\n",
       "      <td>0.223889</td>\n",
       "      <td>0.224922</td>\n",
       "    </tr>\n",
       "    <tr>\n",
       "      <th>1</th>\n",
       "      <td>1.393531</td>\n",
       "      <td>1.648810</td>\n",
       "      <td>0.000520</td>\n",
       "      <td>0.000520</td>\n",
       "      <td>(80, 3)</td>\n",
       "      <td>{'hidden_layer_sizes': (80, 3)}</td>\n",
       "      <td>0.370576</td>\n",
       "      <td>0.435838</td>\n",
       "      <td>0.423346</td>\n",
       "      <td>-0.001232</td>\n",
       "      <td>0.307132</td>\n",
       "      <td>0.179711</td>\n",
       "      <td>6</td>\n",
       "      <td>0.474933</td>\n",
       "      <td>3.785586e-01</td>\n",
       "      <td>4.423836e-01</td>\n",
       "      <td>-6.446133e-10</td>\n",
       "      <td>0.323969</td>\n",
       "      <td>0.190229</td>\n",
       "    </tr>\n",
       "    <tr>\n",
       "      <th>2</th>\n",
       "      <td>2.677836</td>\n",
       "      <td>1.590739</td>\n",
       "      <td>0.001021</td>\n",
       "      <td>0.000015</td>\n",
       "      <td>(100, 3)</td>\n",
       "      <td>{'hidden_layer_sizes': (100, 3)}</td>\n",
       "      <td>0.370272</td>\n",
       "      <td>0.477665</td>\n",
       "      <td>0.400964</td>\n",
       "      <td>-0.001230</td>\n",
       "      <td>0.311918</td>\n",
       "      <td>0.184979</td>\n",
       "      <td>4</td>\n",
       "      <td>0.474788</td>\n",
       "      <td>4.431607e-01</td>\n",
       "      <td>4.555804e-01</td>\n",
       "      <td>-1.110223e-15</td>\n",
       "      <td>0.343382</td>\n",
       "      <td>0.198572</td>\n",
       "    </tr>\n",
       "    <tr>\n",
       "      <th>3</th>\n",
       "      <td>1.719990</td>\n",
       "      <td>1.442950</td>\n",
       "      <td>0.001018</td>\n",
       "      <td>0.000021</td>\n",
       "      <td>(100, 4)</td>\n",
       "      <td>{'hidden_layer_sizes': (100, 4)}</td>\n",
       "      <td>0.367596</td>\n",
       "      <td>-0.004832</td>\n",
       "      <td>0.436256</td>\n",
       "      <td>0.431364</td>\n",
       "      <td>0.307596</td>\n",
       "      <td>0.182403</td>\n",
       "      <td>5</td>\n",
       "      <td>0.472205</td>\n",
       "      <td>-2.220446e-16</td>\n",
       "      <td>4.390511e-01</td>\n",
       "      <td>4.650697e-01</td>\n",
       "      <td>0.344082</td>\n",
       "      <td>0.199038</td>\n",
       "    </tr>\n",
       "    <tr>\n",
       "      <th>4</th>\n",
       "      <td>2.158603</td>\n",
       "      <td>1.191695</td>\n",
       "      <td>0.000997</td>\n",
       "      <td>0.000691</td>\n",
       "      <td>(100, 5)</td>\n",
       "      <td>{'hidden_layer_sizes': (100, 5)}</td>\n",
       "      <td>0.363614</td>\n",
       "      <td>0.476422</td>\n",
       "      <td>0.424664</td>\n",
       "      <td>0.418531</td>\n",
       "      <td>0.420808</td>\n",
       "      <td>0.039950</td>\n",
       "      <td>2</td>\n",
       "      <td>0.474924</td>\n",
       "      <td>4.406856e-01</td>\n",
       "      <td>4.299881e-01</td>\n",
       "      <td>4.492836e-01</td>\n",
       "      <td>0.448720</td>\n",
       "      <td>0.016601</td>\n",
       "    </tr>\n",
       "    <tr>\n",
       "      <th>5</th>\n",
       "      <td>5.636472</td>\n",
       "      <td>2.302604</td>\n",
       "      <td>0.001286</td>\n",
       "      <td>0.000429</td>\n",
       "      <td>(200, 4)</td>\n",
       "      <td>{'hidden_layer_sizes': (200, 4)}</td>\n",
       "      <td>0.383664</td>\n",
       "      <td>0.491610</td>\n",
       "      <td>0.388021</td>\n",
       "      <td>0.435766</td>\n",
       "      <td>0.424765</td>\n",
       "      <td>0.043671</td>\n",
       "      <td>1</td>\n",
       "      <td>0.484171</td>\n",
       "      <td>4.361821e-01</td>\n",
       "      <td>4.187594e-01</td>\n",
       "      <td>4.672083e-01</td>\n",
       "      <td>0.451580</td>\n",
       "      <td>0.025597</td>\n",
       "    </tr>\n",
       "    <tr>\n",
       "      <th>6</th>\n",
       "      <td>3.967329</td>\n",
       "      <td>2.826832</td>\n",
       "      <td>0.001475</td>\n",
       "      <td>0.000498</td>\n",
       "      <td>(200, 5)</td>\n",
       "      <td>{'hidden_layer_sizes': (200, 5)}</td>\n",
       "      <td>0.369450</td>\n",
       "      <td>0.494353</td>\n",
       "      <td>0.418956</td>\n",
       "      <td>-0.001231</td>\n",
       "      <td>0.320382</td>\n",
       "      <td>0.190936</td>\n",
       "      <td>3</td>\n",
       "      <td>0.472802</td>\n",
       "      <td>4.483621e-01</td>\n",
       "      <td>4.428157e-01</td>\n",
       "      <td>-2.586011e-10</td>\n",
       "      <td>0.340995</td>\n",
       "      <td>0.197196</td>\n",
       "    </tr>\n",
       "  </tbody>\n",
       "</table>\n",
       "</div>"
      ],
      "text/plain": [
       "   mean_fit_time  std_fit_time  mean_score_time  std_score_time  \\\n",
       "0       0.438643      0.585397         0.000749        0.000432   \n",
       "1       1.393531      1.648810         0.000520        0.000520   \n",
       "2       2.677836      1.590739         0.001021        0.000015   \n",
       "3       1.719990      1.442950         0.001018        0.000021   \n",
       "4       2.158603      1.191695         0.000997        0.000691   \n",
       "5       5.636472      2.302604         0.001286        0.000429   \n",
       "6       3.967329      2.826832         0.001475        0.000498   \n",
       "\n",
       "  param_hidden_layer_sizes                            params  \\\n",
       "0                  (50, 3)   {'hidden_layer_sizes': (50, 3)}   \n",
       "1                  (80, 3)   {'hidden_layer_sizes': (80, 3)}   \n",
       "2                 (100, 3)  {'hidden_layer_sizes': (100, 3)}   \n",
       "3                 (100, 4)  {'hidden_layer_sizes': (100, 4)}   \n",
       "4                 (100, 5)  {'hidden_layer_sizes': (100, 5)}   \n",
       "5                 (200, 4)  {'hidden_layer_sizes': (200, 4)}   \n",
       "6                 (200, 5)  {'hidden_layer_sizes': (200, 5)}   \n",
       "\n",
       "   split0_test_score  split1_test_score  split2_test_score  split3_test_score  \\\n",
       "0           0.374081           0.472100          -0.024539          -0.001230   \n",
       "1           0.370576           0.435838           0.423346          -0.001232   \n",
       "2           0.370272           0.477665           0.400964          -0.001230   \n",
       "3           0.367596          -0.004832           0.436256           0.431364   \n",
       "4           0.363614           0.476422           0.424664           0.418531   \n",
       "5           0.383664           0.491610           0.388021           0.435766   \n",
       "6           0.369450           0.494353           0.418956          -0.001231   \n",
       "\n",
       "   mean_test_score  std_test_score  rank_test_score  split0_train_score  \\\n",
       "0         0.205103        0.220879                7            0.478226   \n",
       "1         0.307132        0.179711                6            0.474933   \n",
       "2         0.311918        0.184979                4            0.474788   \n",
       "3         0.307596        0.182403                5            0.472205   \n",
       "4         0.420808        0.039950                2            0.474924   \n",
       "5         0.424765        0.043671                1            0.484171   \n",
       "6         0.320382        0.190936                3            0.472802   \n",
       "\n",
       "   split1_train_score  split2_train_score  split3_train_score  \\\n",
       "0        4.173306e-01       -1.332268e-15       -2.886580e-15   \n",
       "1        3.785586e-01        4.423836e-01       -6.446133e-10   \n",
       "2        4.431607e-01        4.555804e-01       -1.110223e-15   \n",
       "3       -2.220446e-16        4.390511e-01        4.650697e-01   \n",
       "4        4.406856e-01        4.299881e-01        4.492836e-01   \n",
       "5        4.361821e-01        4.187594e-01        4.672083e-01   \n",
       "6        4.483621e-01        4.428157e-01       -2.586011e-10   \n",
       "\n",
       "   mean_train_score  std_train_score  \n",
       "0          0.223889         0.224922  \n",
       "1          0.323969         0.190229  \n",
       "2          0.343382         0.198572  \n",
       "3          0.344082         0.199038  \n",
       "4          0.448720         0.016601  \n",
       "5          0.451580         0.025597  \n",
       "6          0.340995         0.197196  "
      ]
     },
     "execution_count": 25,
     "metadata": {},
     "output_type": "execute_result"
    }
   ],
   "source": [
    "pd.DataFrame(mlpr_grid.cv_results_)"
   ]
  },
  {
   "cell_type": "code",
   "execution_count": 22,
   "metadata": {},
   "outputs": [
    {
     "name": "stdout",
     "output_type": "stream",
     "text": [
      "The best score of the combinations: 0.4248\n",
      "The best parameters found by grid search: {'hidden_layer_sizes': (200, 4)}\n"
     ]
    }
   ],
   "source": [
    "print(f'The best score of the combinations: {mlpr_grid.best_score_:.4}')\n",
    "print(f'The best parameters found by grid search: {mlpr_grid.best_params_}')"
   ]
  },
  {
   "cell_type": "markdown",
   "metadata": {},
   "source": [
    "## Learning Curve"
   ]
  },
  {
   "cell_type": "code",
   "execution_count": 71,
   "metadata": {},
   "outputs": [
    {
     "name": "stderr",
     "output_type": "stream",
     "text": [
      "E:\\Users\\ff15m\\anaconda3\\lib\\site-packages\\sklearn\\neural_network\\_multilayer_perceptron.py:559: ConvergenceWarning: lbfgs failed to converge (status=1):\n",
      "STOP: TOTAL NO. of ITERATIONS REACHED LIMIT.\n",
      "\n",
      "Increase the number of iterations (max_iter) or scale the data as shown in:\n",
      "    https://scikit-learn.org/stable/modules/preprocessing.html\n",
      "  self.n_iter_ = _check_optimize_result(\"lbfgs\", opt_res, self.max_iter)\n"
     ]
    },
    {
     "data": {
      "image/png": "[encoded data removed]",
      "text/plain": [
       "<Figure size 576x360 with 1 Axes>"
      ]
     },
     "metadata": {
      "needs_background": "light"
     },
     "output_type": "display_data"
    },
    {
     "name": "stdout",
     "output_type": "stream",
     "text": [
      "Training scores:\n",
      "\n",
      "                cv1           cv2           cv3       cv4           cv5\n",
      "151  -1.598721e-14 -3.335110e-13  7.310935e-01  0.777514  7.408048e-01\n",
      "275   3.496534e-01  7.150967e-01 -8.881784e-16  0.733382  7.224116e-01\n",
      "398   4.074766e-01  6.594661e-01  6.470339e-01  0.709005  7.157077e-01\n",
      "522   3.576100e-01  7.027980e-01  0.000000e+00  0.635266 -1.776357e-15\n",
      "646   3.656458e-01  6.732638e-01  5.992500e-01  0.608681  6.030972e-01\n",
      "770   3.591602e-01  6.211334e-01  6.172978e-01  0.589997 -3.108624e-15\n",
      "894  -1.115189e-09  5.592589e-01  5.714374e-01  0.573390  5.729533e-01\n",
      "1017 -2.434407e-06  5.477742e-01  5.477233e-01  0.587684  6.061811e-01\n",
      "1141  2.873458e-01  5.389554e-01  5.488899e-01  0.000000  5.735475e-01\n",
      "1265  3.034490e-01  5.294230e-01  5.152722e-01  0.573004  5.305867e-01\n",
      "1389  2.594517e-01  5.090567e-01  5.082077e-01  0.554081  5.066035e-01\n",
      "1513  2.769433e-01 -1.776357e-15  5.072372e-01  0.533169  0.000000e+00\n",
      "\n",
      " ----------------------------------------------------------------------\n",
      "\n",
      "Validation scores:\n",
      "\n",
      "            cv1       cv2       cv3       cv4       cv5  mean_score\n",
      "151  -0.200024 -1.866696 -1.065074 -0.103961 -1.183404   -0.883832\n",
      "275   0.069920  0.362777 -2.881639 -1.514407 -2.235794   -1.239829\n",
      "398  -0.005124  0.377534 -0.036889 -1.545843 -2.516904   -0.745445\n",
      "522   0.463575  0.376115 -1.836459 -0.231835 -2.097069   -0.665135\n",
      "646   0.428716  0.357232 -0.115622 -0.144027 -0.582102   -0.011161\n",
      "770   0.208369  0.326784  0.075165  0.066310 -1.515290   -0.167732\n",
      "894  -0.887501  0.334664  0.166661  0.097604 -0.030313   -0.063777\n",
      "1017 -0.961246  0.349212  0.139956  0.097930 -0.335484   -0.141926\n",
      "1141  0.120388  0.350153  0.152188 -0.394762  0.029794    0.051552\n",
      "1265 -0.719616  0.362398  0.138296  0.111189  0.028980   -0.015751\n",
      "1389  0.542004  0.359618  0.151943  0.131154  0.021709    0.241286\n",
      "1513 -0.267191 -0.132970  0.148109  0.139548 -0.695083   -0.161517\n"
     ]
    }
   ],
   "source": [
    "train_sizes = np.linspace(0.1,1,12)\n",
    "model = MLPRegressor(max_iter=2000, hidden_layer_sizes=(200,4), batch_size=238, alpha=18e-5\n",
    "                     ,activation='relu', learning_rate='adaptive', solver='lbfgs')\n",
    "\n",
    "cv=5\n",
    "scoring= 'r2'\n",
    "\n",
    "ns_list, train_scores, validation_scores = learning_curve(\n",
    "                                                   estimator= model , X = X,\n",
    "                                                   y = Y, train_sizes = train_sizes, cv = cv, random_state = 0)\n",
    "\n",
    "train_scores_mean =  train_scores.mean(axis = 1)\n",
    "train_scores_std = np.std(train_scores, axis=1)\n",
    "validation_scores_mean =  validation_scores.mean(axis = 1)\n",
    "validation_scores_std  = validation_scores.std(axis = 1)\n",
    "\n",
    "xlabel = 'Sample Size'\n",
    "ylabel = scoring\n",
    "plt_title = 'Learning Curve'\n",
    "\n",
    "fig = plt.figure(figsize=(8,5))\n",
    "ax = fig.add_subplot(111, xlabel=xlabel, ylabel=ylabel, title=plt_title)\n",
    "ax.plot(train_sizes, train_scores_mean, label = 'Training Score')\n",
    "ax.plot(train_sizes, validation_scores_mean, label = 'Validation Score')\n",
    "\n",
    "plt.fill_between(train_sizes, train_scores_mean - train_scores_std,\n",
    "                 train_scores_mean + train_scores_std, alpha=0.2,\n",
    "                 color=\"darkblue\", lw=2)\n",
    "plt.fill_between(train_sizes, validation_scores_mean - validation_scores_std,\n",
    "                 validation_scores_mean + validation_scores_std, alpha=0.2,\n",
    "                 color=\"darkgreen\", lw=2)\n",
    "\n",
    "plt.legend()\n",
    "# plt.yscale('log')\n",
    "plt.show()\n",
    "\n",
    "print('Training scores:\\n\\n', pd.DataFrame( train_scores, columns=[f'cv{i+1}' for i in range(cv)], index=ns_list) )\n",
    "print('\\n', '-' * 70) # separator to make the output easy to read\n",
    "valid_df = pd.DataFrame(validation_scores, columns=[f'cv{i+1}' for i in range(cv)], index=ns_list)\n",
    "valid_df['mean_score'] = validation_scores_mean\n",
    "print('\\nValidation scores:\\n\\n',valid_df )"
   ]
  },
  {
   "cell_type": "markdown",
   "metadata": {},
   "source": [
    "## Final model and prediction"
   ]
  },
  {
   "cell_type": "code",
   "execution_count": 146,
   "metadata": {},
   "outputs": [
    {
     "data": {
      "text/html": [
       "<style>#sk-container-id-17 {color: black;background-color: white;}#sk-container-id-17 pre{padding: 0;}#sk-container-id-17 div.sk-toggleable {background-color: white;}#sk-container-id-17 label.sk-toggleable__label {cursor: pointer;display: block;width: 100%;margin-bottom: 0;padding: 0.3em;box-sizing: border-box;text-align: center;}#sk-container-id-17 label.sk-toggleable__label-arrow:before {content: \"▸\";float: left;margin-right: 0.25em;color: #696969;}#sk-container-id-17 label.sk-toggleable__label-arrow:hover:before {color: black;}#sk-container-id-17 div.sk-estimator:hover label.sk-toggleable__label-arrow:before {color: black;}#sk-container-id-17 div.sk-toggleable__content {max-height: 0;max-width: 0;overflow: hidden;text-align: left;background-color: #f0f8ff;}#sk-container-id-17 div.sk-toggleable__content pre {margin: 0.2em;color: black;border-radius: 0.25em;background-color: #f0f8ff;}#sk-container-id-17 input.sk-toggleable__control:checked~div.sk-toggleable__content {max-height: 200px;max-width: 100%;overflow: auto;}#sk-container-id-17 input.sk-toggleable__control:checked~label.sk-toggleable__label-arrow:before {content: \"▾\";}#sk-container-id-17 div.sk-estimator input.sk-toggleable__control:checked~label.sk-toggleable__label {background-color: #d4ebff;}#sk-container-id-17 div.sk-label input.sk-toggleable__control:checked~label.sk-toggleable__label {background-color: #d4ebff;}#sk-container-id-17 input.sk-hidden--visually {border: 0;clip: rect(1px 1px 1px 1px);clip: rect(1px, 1px, 1px, 1px);height: 1px;margin: -1px;overflow: hidden;padding: 0;position: absolute;width: 1px;}#sk-container-id-17 div.sk-estimator {font-family: monospace;background-color: #f0f8ff;border: 1px dotted black;border-radius: 0.25em;box-sizing: border-box;margin-bottom: 0.5em;}#sk-container-id-17 div.sk-estimator:hover {background-color: #d4ebff;}#sk-container-id-17 div.sk-parallel-item::after {content: \"\";width: 100%;border-bottom: 1px solid gray;flex-grow: 1;}#sk-container-id-17 div.sk-label:hover label.sk-toggleable__label {background-color: #d4ebff;}#sk-container-id-17 div.sk-serial::before {content: \"\";position: absolute;border-left: 1px solid gray;box-sizing: border-box;top: 0;bottom: 0;left: 50%;z-index: 0;}#sk-container-id-17 div.sk-serial {display: flex;flex-direction: column;align-items: center;background-color: white;padding-right: 0.2em;padding-left: 0.2em;position: relative;}#sk-container-id-17 div.sk-item {position: relative;z-index: 1;}#sk-container-id-17 div.sk-parallel {display: flex;align-items: stretch;justify-content: center;background-color: white;position: relative;}#sk-container-id-17 div.sk-item::before, #sk-container-id-17 div.sk-parallel-item::before {content: \"\";position: absolute;border-left: 1px solid gray;box-sizing: border-box;top: 0;bottom: 0;left: 50%;z-index: -1;}#sk-container-id-17 div.sk-parallel-item {display: flex;flex-direction: column;z-index: 1;position: relative;background-color: white;}#sk-container-id-17 div.sk-parallel-item:first-child::after {align-self: flex-end;width: 50%;}#sk-container-id-17 div.sk-parallel-item:last-child::after {align-self: flex-start;width: 50%;}#sk-container-id-17 div.sk-parallel-item:only-child::after {width: 0;}#sk-container-id-17 div.sk-dashed-wrapped {border: 1px dashed gray;margin: 0 0.4em 0.5em 0.4em;box-sizing: border-box;padding-bottom: 0.4em;background-color: white;}#sk-container-id-17 div.sk-label label {font-family: monospace;font-weight: bold;display: inline-block;line-height: 1.2em;}#sk-container-id-17 div.sk-label-container {text-align: center;}#sk-container-id-17 div.sk-container {/* jupyter's `normalize.less` sets `[hidden] { display: none; }` but bootstrap.min.css set `[hidden] { display: none !important; }` so we also need the `!important` here to be able to override the default hidden behavior on the sphinx rendered scikit-learn.org. See: https://github.com/scikit-learn/scikit-learn/issues/21755 */display: inline-block !important;position: relative;}#sk-container-id-17 div.sk-text-repr-fallback {display: none;}</style><div id=\"sk-container-id-17\" class=\"sk-top-container\"><div class=\"sk-text-repr-fallback\"><pre>MLPRegressor(alpha=2e-05, batch_size=238, hidden_layer_sizes=(200, 4),\n",
       "             learning_rate=&#x27;adaptive&#x27;, max_iter=2000, random_state=10,\n",
       "             solver=&#x27;lbfgs&#x27;)</pre><b>In a Jupyter environment, please rerun this cell to show the HTML representation or trust the notebook. <br />On GitHub, the HTML representation is unable to render, please try loading this page with nbviewer.org.</b></div><div class=\"sk-container\" hidden><div class=\"sk-item\"><div class=\"sk-estimator sk-toggleable\"><input class=\"sk-toggleable__control sk-hidden--visually\" id=\"sk-estimator-id-23\" type=\"checkbox\" checked><label for=\"sk-estimator-id-23\" class=\"sk-toggleable__label sk-toggleable__label-arrow\">MLPRegressor</label><div class=\"sk-toggleable__content\"><pre>MLPRegressor(alpha=2e-05, batch_size=238, hidden_layer_sizes=(200, 4),\n",
       "             learning_rate=&#x27;adaptive&#x27;, max_iter=2000, random_state=10,\n",
       "             solver=&#x27;lbfgs&#x27;)</pre></div></div></div></div></div>"
      ],
      "text/plain": [
       "MLPRegressor(alpha=2e-05, batch_size=238, hidden_layer_sizes=(200, 4),\n",
       "             learning_rate='adaptive', max_iter=2000, random_state=10,\n",
       "             solver='lbfgs')"
      ]
     },
     "execution_count": 146,
     "metadata": {},
     "output_type": "execute_result"
    }
   ],
   "source": [
    "# Best split\n",
    "# trn_size = (valid_df[valid_df['mean_score']==max(valid_df['mean_score'])].index[0])\n",
    "# trn_size= 1388\n",
    "# ns, nf = np.shape(X) \n",
    "# X_train, X_test, Y_train, Y_test = train_test_split(*shuffle(X, Y, n_samples = ns, random_state=40) , random_state=42, train_size =trn_size )\n",
    "# print('X_train :',len(X_train),'   X_test :',len(X_test))\n",
    "\n",
    "df = data.sample(frac=1,random_state=15)\n",
    "# X_train = s_scaler.transform(df[['followers','avg_likes','avg_comments']].iloc[:1388].values)\n",
    "X_train = ma.transform(df[['followers','avg_likes','avg_comments']].iloc[:1388].values)\n",
    "Y_train = df['price'].iloc[:1388].values\n",
    "\n",
    "# Final model\n",
    "final_mlp = MLPRegressor(max_iter=2000, hidden_layer_sizes=(200,4), batch_size=238, alpha=2e-5\n",
    "                        ,activation='relu', learning_rate='adaptive', solver='lbfgs',random_state=10)\n",
    "final_mlp.fit(X_train, Y_train)"
   ]
  },
  {
   "cell_type": "code",
   "execution_count": 3,
   "metadata": {},
   "outputs": [],
   "source": [
    "# Save the model\n",
    "\n",
    "# from pickle import dump,load\n",
    "## save the classifier\n",
    "# with open('mlp_all_post_showrand.pkl', 'wb') as fid:\n",
    "#     dump(final_mlp, fid)    \n",
    "\n",
    "## load it again\n",
    "# with open('mlp_all_post_showrand.pkl', 'rb') as fid:\n",
    "#     final_mlp = load(fid)"
   ]
  },
  {
   "cell_type": "code",
   "execution_count": 162,
   "metadata": {},
   "outputs": [
    {
     "name": "stdout",
     "output_type": "stream",
     "text": [
      "The R2 score of the model is : 0.5066\n"
     ]
    }
   ],
   "source": [
    "# X_test = s_scaler.transform(df.iloc[1388:][['followers','avg_likes','avg_comments']].values)\n",
    "X_test = ma.transform(df.iloc[1388:][['followers','avg_likes','avg_comments']].values)\n",
    "Y_test = df.iloc[1388:]['price'].values\n",
    "print(f'The R2 score of the model is : {final_mlp.score(X_test, Y_test):.4f}')"
   ]
  },
  {
   "cell_type": "code",
   "execution_count": 163,
   "metadata": {},
   "outputs": [
    {
     "name": "stdout",
     "output_type": "stream",
     "text": [
      "The MAE of the model is: 172184.17\n",
      "Actual price:    [143000.  88000. 220000. 121000.  30800. 275000.  55000.  55000. 473000.\n",
      " 110000.]\n",
      "Predicted price: [ 98671.  81165. 118381.  54258.  52935. 146206.  59666.  74195. 325224.\n",
      "  98915.]\n"
     ]
    }
   ],
   "source": [
    "## prediction\n",
    "\n",
    "prices = np.power(10,Y_test)\n",
    "predicted = np.power(10,final_mlp.predict(X_test))\n",
    "print(f'The MAE of the model is: {np.mean(np.abs(prices-predicted)):.2f}')\n",
    "\n",
    "print(f'Actual price:    {np.round(prices[60:70],0)}')\n",
    "print(f'Predicted price: {np.round(predicted[60:70],0)}')"
   ]
  },
  {
   "cell_type": "code",
   "execution_count": 164,
   "metadata": {},
   "outputs": [
    {
     "name": "stdout",
     "output_type": "stream",
     "text": [
      "MAE: 1.2599\n",
      "Actual price:    [4 6 6 5 3 4 2 3 3 3 3 5 4 3 4]\n",
      "Predicted price: [4 4 3 6 5 8 4 5 3 3 6 4 3 3 4]\n"
     ]
    }
   ],
   "source": [
    "l = len(Y_test)\n",
    "prices_class=np.zeros(l,dtype=int)\n",
    "predicted_class=np.zeros(l,dtype=int)\n",
    "\n",
    "divider = np.array([20,30,50,100,150,200,400,500,800,1000,1500,3000])\n",
    "\n",
    "for d in 1000*divider:\n",
    "    prices_class += (prices>d).astype('int32')\n",
    "    predicted_class += (predicted>d).astype('int32')\n",
    "\n",
    "print(f'MAE: {np.mean(np.abs(prices_class-predicted_class)):.4f}')\n",
    "print(f'Actual price:    {prices_class[:15]}')\n",
    "print(f'Predicted price: {predicted_class[:15]}')"
   ]
  },
  {
   "cell_type": "code",
   "execution_count": 165,
   "metadata": {},
   "outputs": [
    {
     "data": {
      "image/png": "[encoded data removed]",
      "text/plain": [
       "<Figure size 864x504 with 1 Axes>"
      ]
     },
     "metadata": {
      "needs_background": "light"
     },
     "output_type": "display_data"
    }
   ],
   "source": [
    "fig = plt.figure(figsize=(12,7))\n",
    "ax = fig.add_subplot(111, xlabel='predicted price\\n( 1000 $Tomans$ )', ylabel='frequency', title='Final Prices (MLP)')\n",
    "plt.xticks(ticks=range(max(prices_class)+1), labels=np.insert(divider,0,0),rotation=60)\n",
    "ax.hist(prices_class, bins=max(prices_class), alpha=0.3, label='Actual Price')\n",
    "ax.hist(predicted_class, bins=max(predicted_class-2), alpha=0.3, label='Predicted Price')\n",
    "plt.legend(loc=0)\n",
    "plt.margins(0.1)\n",
    "ax.spines['top'].set_visible(False)\n",
    "ax.spines['right'].set_visible(False)\n",
    "\n",
    "## Save Figure\n",
    "# plt.savefig('Final Prices MLP.png',bbox_inches='tight', pad_inches=0.4, facecolor='w')\n",
    "\n",
    "plt.show()"
   ]
  },
  {
   "cell_type": "code",
   "execution_count": 166,
   "metadata": {},
   "outputs": [],
   "source": [
    "## Text Output is in final_output array\n",
    "divider_0 = np.insert(divider,0,0)\n",
    "final_output= np.zeros(len(predicted_class),dtype=object)\n",
    "orig_price = np.zeros(len(prices_class),dtype=object)\n",
    "for i in range(len(predicted_class)):\n",
    "    if predicted_class[i] <= len(divider_0)-2:\n",
    "        final_output[i]= f'{divider_0[predicted_class[i]]} - {divider_0[predicted_class[i]+1]}'\n",
    "    else:\n",
    "        final_output[i] = f'> {divider_0[predicted_class[i]]}'\n",
    "    \n",
    "for i in range(len(prices_class)):\n",
    "    if prices_class[i] <= len(divider_0)-2:\n",
    "        orig_price[i]= f'{divider_0[prices_class[i]]} - {divider_0[prices_class[i]+1]}'\n",
    "    else:\n",
    "        orig_price[i] = f'> {divider_0[prices_class[i]]}'"
   ]
  },
  {
   "cell_type": "code",
   "execution_count": 167,
   "metadata": {},
   "outputs": [
    {
     "name": "stdout",
     "output_type": "stream",
     "text": [
      "['100 - 150' '100 - 150' '50 - 100' '200 - 400' '150 - 200' '500 - 800'\n",
      " '100 - 150' '150 - 200' '50 - 100' '50 - 100']\n",
      "[4 4 3 6 5 8 4 5 3 3]\n"
     ]
    }
   ],
   "source": [
    "print(final_output[:10])\n",
    "print(predicted_class[:10])"
   ]
  },
  {
   "cell_type": "code",
   "execution_count": 168,
   "metadata": {},
   "outputs": [
    {
     "name": "stdout",
     "output_type": "stream",
     "text": [
      "['800 - 1000' '200 - 400' '200 - 400' '100 - 150' '50 - 100' '50 - 100'\n",
      " '1000 - 1500' '150 - 200' '800 - 1000' '100 - 150']\n",
      "[ 9  6  6  4  3  3 10  5  9  4]\n",
      "[ 935000.  385000.  253000.  110000.   99000.   66000. 1100000.  187000.\n",
      "  997500.  110000.]\n"
     ]
    }
   ],
   "source": [
    "print(orig_price[310:320])\n",
    "print(prices_class[310:320])\n",
    "print(prices[310:320])"
   ]
  },
  {
   "cell_type": "code",
   "execution_count": 169,
   "metadata": {},
   "outputs": [
    {
     "data": {
      "text/html": [
       "<div>\n",
       "<style scoped>\n",
       "    .dataframe tbody tr th:only-of-type {\n",
       "        vertical-align: middle;\n",
       "    }\n",
       "\n",
       "    .dataframe tbody tr th {\n",
       "        vertical-align: top;\n",
       "    }\n",
       "\n",
       "    .dataframe thead th {\n",
       "        text-align: right;\n",
       "    }\n",
       "</style>\n",
       "<table border=\"1\" class=\"dataframe\">\n",
       "  <thead>\n",
       "    <tr style=\"text-align: right;\">\n",
       "      <th></th>\n",
       "      <th>username</th>\n",
       "      <th>price</th>\n",
       "      <th>avg_likes</th>\n",
       "      <th>avg_comments</th>\n",
       "      <th>followers</th>\n",
       "    </tr>\n",
       "  </thead>\n",
       "  <tbody>\n",
       "    <tr>\n",
       "      <th>1072</th>\n",
       "      <td>zibaie.mag</td>\n",
       "      <td>5.120574</td>\n",
       "      <td>1176.0</td>\n",
       "      <td>176.2</td>\n",
       "      <td>136786</td>\n",
       "    </tr>\n",
       "    <tr>\n",
       "      <th>387</th>\n",
       "      <td>one_word_per_day</td>\n",
       "      <td>5.546543</td>\n",
       "      <td>1600.0</td>\n",
       "      <td>18.9</td>\n",
       "      <td>357268</td>\n",
       "    </tr>\n",
       "    <tr>\n",
       "      <th>1494</th>\n",
       "      <td>arzha_net</td>\n",
       "      <td>5.342423</td>\n",
       "      <td>914.7</td>\n",
       "      <td>14.5</td>\n",
       "      <td>50134</td>\n",
       "    </tr>\n",
       "    <tr>\n",
       "      <th>606</th>\n",
       "      <td>Moshavereh_steve</td>\n",
       "      <td>5.271842</td>\n",
       "      <td>9468.6</td>\n",
       "      <td>137.2</td>\n",
       "      <td>333258</td>\n",
       "    </tr>\n",
       "    <tr>\n",
       "      <th>1060</th>\n",
       "      <td>khoda_txt</td>\n",
       "      <td>4.740363</td>\n",
       "      <td>5297.2</td>\n",
       "      <td>164.4</td>\n",
       "      <td>176328</td>\n",
       "    </tr>\n",
       "    <tr>\n",
       "      <th>...</th>\n",
       "      <td>...</td>\n",
       "      <td>...</td>\n",
       "      <td>...</td>\n",
       "      <td>...</td>\n",
       "      <td>...</td>\n",
       "    </tr>\n",
       "    <tr>\n",
       "      <th>157</th>\n",
       "      <td>tvfactt</td>\n",
       "      <td>5.439333</td>\n",
       "      <td>4359.9</td>\n",
       "      <td>110.4</td>\n",
       "      <td>747711</td>\n",
       "    </tr>\n",
       "    <tr>\n",
       "      <th>385</th>\n",
       "      <td>Shadi_yani</td>\n",
       "      <td>5.217484</td>\n",
       "      <td>1990.2</td>\n",
       "      <td>8.4</td>\n",
       "      <td>377195</td>\n",
       "    </tr>\n",
       "    <tr>\n",
       "      <th>646</th>\n",
       "      <td>majaleye_ashpazi_khob</td>\n",
       "      <td>5.120574</td>\n",
       "      <td>499.1</td>\n",
       "      <td>28.0</td>\n",
       "      <td>230788</td>\n",
       "    </tr>\n",
       "    <tr>\n",
       "      <th>1782</th>\n",
       "      <td>ferdowsi_uni</td>\n",
       "      <td>4.995635</td>\n",
       "      <td>492.9</td>\n",
       "      <td>7.7</td>\n",
       "      <td>17748</td>\n",
       "    </tr>\n",
       "    <tr>\n",
       "      <th>1481</th>\n",
       "      <td>Germanycarsiran</td>\n",
       "      <td>5.439333</td>\n",
       "      <td>13891.7</td>\n",
       "      <td>481.8</td>\n",
       "      <td>106634</td>\n",
       "    </tr>\n",
       "  </tbody>\n",
       "</table>\n",
       "<p>504 rows × 5 columns</p>\n",
       "</div>"
      ],
      "text/plain": [
       "                   username     price  avg_likes  avg_comments  followers\n",
       "1072             zibaie.mag  5.120574     1176.0         176.2     136786\n",
       "387        one_word_per_day  5.546543     1600.0          18.9     357268\n",
       "1494              arzha_net  5.342423      914.7          14.5      50134\n",
       "606        Moshavereh_steve  5.271842     9468.6         137.2     333258\n",
       "1060              khoda_txt  4.740363     5297.2         164.4     176328\n",
       "...                     ...       ...        ...           ...        ...\n",
       "157                 tvfactt  5.439333     4359.9         110.4     747711\n",
       "385              Shadi_yani  5.217484     1990.2           8.4     377195\n",
       "646   majaleye_ashpazi_khob  5.120574      499.1          28.0     230788\n",
       "1782           ferdowsi_uni  4.995635      492.9           7.7      17748\n",
       "1481        Germanycarsiran  5.439333    13891.7         481.8     106634\n",
       "\n",
       "[504 rows x 5 columns]"
      ]
     },
     "execution_count": 169,
     "metadata": {},
     "output_type": "execute_result"
    }
   ],
   "source": [
    "df_test = df.iloc[1388:]\n",
    "df_test"
   ]
  },
  {
   "cell_type": "code",
   "execution_count": 170,
   "metadata": {},
   "outputs": [],
   "source": [
    "df_test = df_test.assign(predicted=final_output,price=orig_price)\n",
    "df_test = df_test[['username','avg_likes','avg_comments','followers','price','predicted']]"
   ]
  },
  {
   "cell_type": "code",
   "execution_count": 171,
   "metadata": {},
   "outputs": [
    {
     "data": {
      "text/html": [
       "<div>\n",
       "<style scoped>\n",
       "    .dataframe tbody tr th:only-of-type {\n",
       "        vertical-align: middle;\n",
       "    }\n",
       "\n",
       "    .dataframe tbody tr th {\n",
       "        vertical-align: top;\n",
       "    }\n",
       "\n",
       "    .dataframe thead th {\n",
       "        text-align: right;\n",
       "    }\n",
       "</style>\n",
       "<table border=\"1\" class=\"dataframe\">\n",
       "  <thead>\n",
       "    <tr style=\"text-align: right;\">\n",
       "      <th></th>\n",
       "      <th>username</th>\n",
       "      <th>avg_likes</th>\n",
       "      <th>avg_comments</th>\n",
       "      <th>followers</th>\n",
       "      <th>price</th>\n",
       "      <th>predicted</th>\n",
       "    </tr>\n",
       "  </thead>\n",
       "  <tbody>\n",
       "    <tr>\n",
       "      <th>1072</th>\n",
       "      <td>zibaie.mag</td>\n",
       "      <td>1176.0</td>\n",
       "      <td>176.2</td>\n",
       "      <td>136786</td>\n",
       "      <td>100 - 150</td>\n",
       "      <td>100 - 150</td>\n",
       "    </tr>\n",
       "    <tr>\n",
       "      <th>387</th>\n",
       "      <td>one_word_per_day</td>\n",
       "      <td>1600.0</td>\n",
       "      <td>18.9</td>\n",
       "      <td>357268</td>\n",
       "      <td>200 - 400</td>\n",
       "      <td>100 - 150</td>\n",
       "    </tr>\n",
       "    <tr>\n",
       "      <th>1494</th>\n",
       "      <td>arzha_net</td>\n",
       "      <td>914.7</td>\n",
       "      <td>14.5</td>\n",
       "      <td>50134</td>\n",
       "      <td>200 - 400</td>\n",
       "      <td>50 - 100</td>\n",
       "    </tr>\n",
       "    <tr>\n",
       "      <th>606</th>\n",
       "      <td>Moshavereh_steve</td>\n",
       "      <td>9468.6</td>\n",
       "      <td>137.2</td>\n",
       "      <td>333258</td>\n",
       "      <td>150 - 200</td>\n",
       "      <td>200 - 400</td>\n",
       "    </tr>\n",
       "    <tr>\n",
       "      <th>1060</th>\n",
       "      <td>khoda_txt</td>\n",
       "      <td>5297.2</td>\n",
       "      <td>164.4</td>\n",
       "      <td>176328</td>\n",
       "      <td>50 - 100</td>\n",
       "      <td>150 - 200</td>\n",
       "    </tr>\n",
       "    <tr>\n",
       "      <th>...</th>\n",
       "      <td>...</td>\n",
       "      <td>...</td>\n",
       "      <td>...</td>\n",
       "      <td>...</td>\n",
       "      <td>...</td>\n",
       "      <td>...</td>\n",
       "    </tr>\n",
       "    <tr>\n",
       "      <th>157</th>\n",
       "      <td>tvfactt</td>\n",
       "      <td>4359.9</td>\n",
       "      <td>110.4</td>\n",
       "      <td>747711</td>\n",
       "      <td>200 - 400</td>\n",
       "      <td>200 - 400</td>\n",
       "    </tr>\n",
       "    <tr>\n",
       "      <th>385</th>\n",
       "      <td>Shadi_yani</td>\n",
       "      <td>1990.2</td>\n",
       "      <td>8.4</td>\n",
       "      <td>377195</td>\n",
       "      <td>150 - 200</td>\n",
       "      <td>100 - 150</td>\n",
       "    </tr>\n",
       "    <tr>\n",
       "      <th>646</th>\n",
       "      <td>majaleye_ashpazi_khob</td>\n",
       "      <td>499.1</td>\n",
       "      <td>28.0</td>\n",
       "      <td>230788</td>\n",
       "      <td>100 - 150</td>\n",
       "      <td>50 - 100</td>\n",
       "    </tr>\n",
       "    <tr>\n",
       "      <th>1782</th>\n",
       "      <td>ferdowsi_uni</td>\n",
       "      <td>492.9</td>\n",
       "      <td>7.7</td>\n",
       "      <td>17748</td>\n",
       "      <td>50 - 100</td>\n",
       "      <td>50 - 100</td>\n",
       "    </tr>\n",
       "    <tr>\n",
       "      <th>1481</th>\n",
       "      <td>Germanycarsiran</td>\n",
       "      <td>13891.7</td>\n",
       "      <td>481.8</td>\n",
       "      <td>106634</td>\n",
       "      <td>200 - 400</td>\n",
       "      <td>200 - 400</td>\n",
       "    </tr>\n",
       "  </tbody>\n",
       "</table>\n",
       "<p>504 rows × 6 columns</p>\n",
       "</div>"
      ],
      "text/plain": [
       "                   username  avg_likes  avg_comments  followers      price  \\\n",
       "1072             zibaie.mag     1176.0         176.2     136786  100 - 150   \n",
       "387        one_word_per_day     1600.0          18.9     357268  200 - 400   \n",
       "1494              arzha_net      914.7          14.5      50134  200 - 400   \n",
       "606        Moshavereh_steve     9468.6         137.2     333258  150 - 200   \n",
       "1060              khoda_txt     5297.2         164.4     176328   50 - 100   \n",
       "...                     ...        ...           ...        ...        ...   \n",
       "157                 tvfactt     4359.9         110.4     747711  200 - 400   \n",
       "385              Shadi_yani     1990.2           8.4     377195  150 - 200   \n",
       "646   majaleye_ashpazi_khob      499.1          28.0     230788  100 - 150   \n",
       "1782           ferdowsi_uni      492.9           7.7      17748   50 - 100   \n",
       "1481        Germanycarsiran    13891.7         481.8     106634  200 - 400   \n",
       "\n",
       "      predicted  \n",
       "1072  100 - 150  \n",
       "387   100 - 150  \n",
       "1494   50 - 100  \n",
       "606   200 - 400  \n",
       "1060  150 - 200  \n",
       "...         ...  \n",
       "157   200 - 400  \n",
       "385   100 - 150  \n",
       "646    50 - 100  \n",
       "1782   50 - 100  \n",
       "1481  200 - 400  \n",
       "\n",
       "[504 rows x 6 columns]"
      ]
     },
     "execution_count": 171,
     "metadata": {},
     "output_type": "execute_result"
    }
   ],
   "source": [
    "df_test"
   ]
  },
  {
   "cell_type": "code",
   "execution_count": 172,
   "metadata": {},
   "outputs": [],
   "source": [
    "df_test.to_csv('post_test_showrand.csv',index=False)"
   ]
  },
  {
   "cell_type": "code",
   "execution_count": null,
   "metadata": {},
   "outputs": [],
   "source": []
  }
 ],
 "metadata": {
  "kernelspec": {
   "display_name": "Python 3",
   "language": "python",
   "name": "python3"
  },
  "language_info": {
   "codemirror_mode": {
    "name": "ipython",
    "version": 3
   },
   "file_extension": ".py",
   "mimetype": "text/x-python",
   "name": "python",
   "nbconvert_exporter": "python",
   "pygments_lexer": "ipython3",
   "version": "3.8.10"
  }
 },
 "nbformat": 4,
 "nbformat_minor": 5
}
